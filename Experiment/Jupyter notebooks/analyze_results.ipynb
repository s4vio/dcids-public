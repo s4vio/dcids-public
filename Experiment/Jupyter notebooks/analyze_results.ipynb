{
 "cells": [
  {
   "cell_type": "code",
   "execution_count": null,
   "id": "6fe717fd",
   "metadata": {},
   "outputs": [],
   "source": [
    "import sys\n",
    "assert sys.version_info >= (3, 5)\n",
    "\n",
    "import numpy as np\n",
    "np.set_printoptions(suppress=True) #prevent numpy exponential\n",
    "\n",
    "import pandas as pd\n",
    "import seaborn as sns\n",
    "import matplotlib.pyplot as plt\n",
    "import os\n",
    "\n",
    "from sklearn.preprocessing import StandardScaler, Normalizer, MinMaxScaler\n",
    "from ipynb.fs.full.rcids_functions import *\n",
    "\n",
    "pd.set_option('display.max_colwidth', None)\n",
    "pd.set_option('display.max_rows', None)\n",
    "np.set_printoptions(suppress=True) #prevent numpy exponential\n",
    "pd.set_option('display.float_format', lambda x: '%.4f' % x) #prevent scientific notation in pandas "
   ]
  },
  {
   "cell_type": "markdown",
   "id": "23297f5b",
   "metadata": {},
   "source": [
    "### Thresholds"
   ]
  },
  {
   "cell_type": "code",
   "execution_count": null,
   "id": "4edacb60",
   "metadata": {},
   "outputs": [],
   "source": [
    "# Loading thresholds dataframe\n",
    "df_thresholds = pd.read_pickle('pkl/df_proc_thresholds.pkl')"
   ]
  },
  {
   "cell_type": "markdown",
   "id": "b458d908",
   "metadata": {},
   "source": [
    "### Metrics"
   ]
  },
  {
   "cell_type": "code",
   "execution_count": null,
   "id": "e3049e85",
   "metadata": {},
   "outputs": [],
   "source": [
    "# Loading existent df from disk\n",
    "df_metrics = pd.read_pickle('pkl/df_metrics_exp1.pkl')"
   ]
  },
  {
   "cell_type": "code",
   "execution_count": null,
   "id": "4a8e1c0a",
   "metadata": {},
   "outputs": [],
   "source": [
    "df_metrics[['Attack', 'NPV', 'Accuracy', 'TNR', 'Precision', 'TPR', 'FPR', 'F1-Score', 'ROC-AUC', 'Confidence_Level', 'Threshold']].sort_values(['Accuracy'], ascending=([False])).groupby('Attack').head(5)"
   ]
  },
  {
   "cell_type": "code",
   "execution_count": null,
   "id": "f6c18054",
   "metadata": {},
   "outputs": [],
   "source": [
    "df_metrics[['NPV', 'Accuracy', 'TNR', 'FPR', 'Confidence_Level']].sort_values(['Accuracy'], ascending=([False])).mul(100).round(2).astype(str) + '%'"
   ]
  },
  {
   "cell_type": "code",
   "execution_count": null,
   "id": "a444f064",
   "metadata": {},
   "outputs": [],
   "source": [
    "df_metrics.sort_values(['Attack', 'Accuracy'], ascending=([True, False])).groupby('Attack').head(3)"
   ]
  },
  {
   "cell_type": "markdown",
   "id": "169a7866",
   "metadata": {},
   "source": [
    "### Hyperopt"
   ]
  },
  {
   "cell_type": "code",
   "execution_count": null,
   "id": "724066c2",
   "metadata": {},
   "outputs": [],
   "source": [
    "# Loading existent df from disk\n",
    "df_hyperopt = pd.read_pickle('pkl/df_hyperopt_conv1d.pkl')"
   ]
  },
  {
   "cell_type": "code",
   "execution_count": null,
   "id": "defa0950",
   "metadata": {},
   "outputs": [],
   "source": [
    "df_hyperopt.sort_values(['Loss_99'], ascending=[True])\n",
    "df_hyperopt.sort_values(['Max_Loss'], ascending=[True])"
   ]
  },
  {
   "cell_type": "code",
   "execution_count": null,
   "id": "fe39e428",
   "metadata": {},
   "outputs": [],
   "source": [
    "# Loading existent df from disk\n",
    "df_metrics_trials_hyperopt = pd.read_pickle('pkl/df_metrics_trials_results_hyperopt.pkl')"
   ]
  },
  {
   "cell_type": "code",
   "execution_count": null,
   "id": "ecc1a0bf",
   "metadata": {},
   "outputs": [],
   "source": [
    "df_metrics_trials_hyperopt"
   ]
  }
 ],
 "metadata": {
  "interpreter": {
   "hash": "767d51c1340bd893661ea55ea3124f6de3c7a262a8b4abca0554b478b1e2ff90"
  },
  "kernelspec": {
   "display_name": "Python 3.10.4 64-bit",
   "language": "python",
   "name": "python3"
  },
  "language_info": {
   "codemirror_mode": {
    "name": "ipython",
    "version": 3
   },
   "file_extension": ".py",
   "mimetype": "text/x-python",
   "name": "python",
   "nbconvert_exporter": "python",
   "pygments_lexer": "ipython3",
   "version": "3.10.9 (main, Dec  7 2022, 00:00:00) [GCC 12.2.1 20221121 (Red Hat 12.2.1-4)]"
  }
 },
 "nbformat": 4,
 "nbformat_minor": 5
}
